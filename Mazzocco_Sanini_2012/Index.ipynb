{
 "cells": [
  {
   "cell_type": "markdown",
   "metadata": {},
   "source": [
    "# Replicating Mazzocco_Sanini_2012\n",
    "Sources: \n",
    "* [Testing Efficient Risk Sharing with Heterogeneous Risk Preferences](https://www.aeaweb.org/articles?id=10.1257/aer.102.1.428)\n",
    "* [Testing Efficient Risk Sharing with Heterogeneous Risk Preferences: Comment](https://www.aeaweb.org/articles?id=10.1257/aer.20170413)\n",
    "* [Testing Efficient Risk Sharing with Heterogeneous Risk Preferences: Reply](https://www.aeaweb.org/articles?id=10.1257/aer.20180041)"
   ]
  },
  {
   "cell_type": "code",
   "execution_count": null,
   "metadata": {},
   "outputs": [],
   "source": []
  }
 ],
 "metadata": {
  "kernelspec": {
   "display_name": "Python 3",
   "language": "python",
   "name": "python3"
  },
  "language_info": {
   "codemirror_mode": {
    "name": "ipython",
    "version": 3
   },
   "file_extension": ".py",
   "mimetype": "text/x-python",
   "name": "python",
   "nbconvert_exporter": "python",
   "pygments_lexer": "ipython3",
   "version": "3.6.5"
  }
 },
 "nbformat": 4,
 "nbformat_minor": 2
}
